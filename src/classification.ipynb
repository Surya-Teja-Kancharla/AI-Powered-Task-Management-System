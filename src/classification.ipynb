{
  "cells": [
    {
      "cell_type": "code",
      "source": [
        "import pandas as pd\n",
        "\n",
        "data = pd.read_csv('preprocessed_task_data.csv')"
      ],
      "metadata": {
        "id": "XIXVkoWgtmSk"
      },
      "id": "XIXVkoWgtmSk",
      "execution_count": 1,
      "outputs": []
    },
    {
      "cell_type": "code",
      "source": [
        "import numpy as np\n",
        "\n",
        "features = np.load('task_features.npy')"
      ],
      "metadata": {
        "id": "_cB4jGJZsHua"
      },
      "id": "_cB4jGJZsHua",
      "execution_count": 3,
      "outputs": []
    },
    {
      "cell_type": "code",
      "source": [
        "from sklearn.model_selection import train_test_split\n",
        "from sklearn.naive_bayes import MultinomialNB\n",
        "from sklearn.svm import SVC\n",
        "from sklearn.metrics import accuracy_score, precision_score, recall_score"
      ],
      "metadata": {
        "id": "Yggaz5AVr2ZY"
      },
      "id": "Yggaz5AVr2ZY",
      "execution_count": 4,
      "outputs": []
    },
    {
      "cell_type": "code",
      "source": [
        "X_train, X_test, y_train, y_test = train_test_split(features, data['Priority_Level'], test_size=0.2, random_state=42)"
      ],
      "metadata": {
        "id": "IP32aNxIK7Nz"
      },
      "id": "IP32aNxIK7Nz",
      "execution_count": 5,
      "outputs": []
    },
    {
      "cell_type": "code",
      "execution_count": 10,
      "id": "1501635b",
      "metadata": {
        "vscode": {
          "languageId": "plaintext"
        },
        "colab": {
          "base_uri": "https://localhost:8080/"
        },
        "id": "1501635b",
        "outputId": "0e1c6ee7-cdaf-4e5b-f4d4-5d325b252855"
      },
      "outputs": [
        {
          "output_type": "stream",
          "name": "stdout",
          "text": [
            "Naive Bayes Accuracy: 0.375\n",
            "Precision: 0.3749766407745131\n",
            "Recall: 0.375\n"
          ]
        }
      ],
      "source": [
        "nb_model = MultinomialNB()\n",
        "nb_model.fit(X_train, y_train)\n",
        "y_pred_nb = nb_model.predict(X_test)\n",
        "\n",
        "print(\"Naive Bayes Accuracy:\", accuracy_score(y_test, y_pred_nb))\n",
        "print(\"Precision:\", precision_score(y_test, y_pred_nb, average='weighted'))\n",
        "print(\"Recall:\", recall_score(y_test, y_pred_nb, average='weighted'))"
      ]
    },
    {
      "cell_type": "code",
      "execution_count": 11,
      "id": "23712f89",
      "metadata": {
        "vscode": {
          "languageId": "plaintext"
        },
        "id": "23712f89",
        "colab": {
          "base_uri": "https://localhost:8080/"
        },
        "outputId": "2d69547f-747a-4632-eb5a-c175be9c8fba"
      },
      "outputs": [
        {
          "output_type": "stream",
          "name": "stdout",
          "text": [
            "SVM Accuracy: 0.3958333333333333\n",
            "Precision: 0.3749766407745131\n",
            "Recall: 0.375\n"
          ]
        }
      ],
      "source": [
        "svm_model = SVC()\n",
        "svm_model.fit(X_train, y_train)\n",
        "y_pred_svm = svm_model.predict(X_test)\n",
        "\n",
        "print(\"SVM Accuracy:\", accuracy_score(y_test, y_pred_svm))\n",
        "print(\"Precision:\", precision_score(y_test, y_pred_nb, average='weighted'))\n",
        "print(\"Recall:\", recall_score(y_test, y_pred_nb, average='weighted'))"
      ]
    },
    {
      "cell_type": "code",
      "source": [],
      "metadata": {
        "id": "h8Qa_kyALPb0"
      },
      "id": "h8Qa_kyALPb0",
      "execution_count": null,
      "outputs": []
    }
  ],
  "metadata": {
    "language_info": {
      "name": "python"
    },
    "colab": {
      "provenance": []
    },
    "kernelspec": {
      "name": "python3",
      "display_name": "Python 3"
    }
  },
  "nbformat": 4,
  "nbformat_minor": 5
}